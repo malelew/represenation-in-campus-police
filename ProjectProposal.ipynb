{
 "cells": [
  {
   "cell_type": "markdown",
   "metadata": {},
   "source": [
    "# COGS 108 - Assignment 4: Project Proposal"
   ]
  },
  {
   "cell_type": "markdown",
   "metadata": {},
   "source": [
    "## Important\n",
    "\n",
    "- Make sure all group member (3-5 people) are listed in the group members section.\n",
    "- ONE, and only one, member of your group should upload this notebook to TritonED. \n",
    "- Each member of the group will receive the same grade on this assignment. \n",
    "- Keep the file name the same: submit the file 'A4_ProjectProposal.ipynb'"
   ]
  },
  {
   "cell_type": "markdown",
   "metadata": {},
   "source": [
    "## Overview"
   ]
  },
  {
   "cell_type": "markdown",
   "metadata": {},
   "source": [
    "Read the project description, and detailed instructions for this assignment, in the 'A4_ProjectOutlineAndProposal' pdf."
   ]
  },
  {
   "cell_type": "markdown",
   "metadata": {},
   "source": [
    "## Group Members: Fill in the Student ID's of each group member here\n",
    "- A12929855\n",
    "- A12752756\n",
    "- A12615468\n",
    "- A13097514"
   ]
  },
  {
   "cell_type": "markdown",
   "metadata": {},
   "source": [
    "### Research Question\n",
    "\n",
    "What is your research question? (1-2 sentences)"
   ]
  },
  {
   "cell_type": "markdown",
   "metadata": {},
   "source": [
    "Do differences in racial demographics of campus police and student bodies significantly affect the police's activities and operations?"
   ]
  },
  {
   "cell_type": "markdown",
   "metadata": {},
   "source": [
    "### Hypothesis\n",
    "\n",
    "What is your prediction (2-3 sentences)"
   ]
  },
  {
   "cell_type": "markdown",
   "metadata": {},
   "source": [
    "We predict that if there is a statistically significant difference in the racial demographics between the campus police and student body, then there will be an increase in police operating budget, police size, larceny on campus, and weapons per officer. Additionally, there will be an increase in the ratio of lethal to non-lethal weapons. However, we predict there will be a decrease in the amount of meetings held between the campus police and student body as well as in the number of police officers designated to fight hate crimes. "
   ]
  },
  {
   "cell_type": "markdown",
   "metadata": {},
   "source": [
    "### Dataset(s)\n",
    "\n",
    "What data will you use to answer your question? Describe the dataset in terms of number of observations, what kind of features it contains, etc. You must use at least one dataset containing at least approximately 1000 observations (if your data are smaller but you feel they are sufficient, email Prof. Voytek). You are welcome (and in fact recommended) to find multiple datasets! If you do so, describe each one, and briefly explain how you will combine them together. "
   ]
  },
  {
   "cell_type": "markdown",
   "metadata": {},
   "source": [
    "*Fill in your dataset information here*\n",
    "If you plan to use multiple datasets, add 1-2 sentences about how you plan to combine these datasets.\n",
    "(Copy this information for each dataset)\n",
    "\n",
    "- Dataset Name: Survey of Police Departments across the Country\n",
    "- Link to the dataset: http://www.icpsr.umich.edu/cgi-bin/bob/zipcart2?path=ICPSR&study=36217&bundle=delimited&ds=1&dups=yes\n",
    "- Number of observations: 861\n",
    "\n",
    "The dataset has entries describing the police departments of 4-year universities across the US.\n",
    "It includes department demographics, budget, equipment, student contact, education level, department \n",
    "practices, and designated personnel.\n",
    "\n",
    "- Dataset Name: College Scorecard Raw Data\n",
    "- Link to dataset: https://catalog.data.gov/dataset/college-scorecard\n",
    "- Number of observations: 7675\n",
    "\n",
    "The dataset contains demographic data and accepted applicant statistics for 7675 universities.\n",
    "\n",
    "- Dataset Name: Campus Security and Safety\n",
    "- Link to dataset: https://ope.ed.gov/campussafety/#/datafile/list\n",
    "- Number of observations: 10770\n",
    "\n",
    "The dataset contains information on crime reported at universities and by university students.\n",
    "\n",
    "We plan to utilize the two datasets to compare the racial demographics of campus police departments to the\n",
    "university's student population. We also plan compare differences in crime between universities with more or less represenative police departments."
   ]
  },
  {
   "cell_type": "markdown",
   "metadata": {},
   "source": [
    "### Background & Prior Work\n",
    "\n",
    "Why is this question of interest, what background information led you to your hypothesis, and why is this important?\n",
    "\n",
    "Find some relevant prior work, and reference them. Even if you think you have a totally novel question, find the most similar prior work you can, and discuss how it relates to your project. \n",
    "\n",
    "References can be research publications, but they need not be: blogs, github repositories, company websites, etc., are viable references if they are relevant to your project.\n",
    "\n",
    "(2-3 paragraphs, including at least 2 references)"
   ]
  },
  {
   "cell_type": "markdown",
   "metadata": {},
   "source": [
    "American police's treatment of minorities is at the forefront of contemporary civil rights discourse. Police are often under scrutiny for discrimination against minorities. Research shows that minority populations are often underrepresented in police forces and that police do not mirror community demographics. \n",
    "\n",
    "American higher education institutions have traditionally had predominantly white male student populations. Recently, universities have made a broad push to be more racially diverse and inclusive. \n",
    "\n",
    "As university students, we are primarily interested in analyzing the racial demographic distribution between campus police and student bodies.\n",
    "\n",
    "References (include a link):\n",
    "- 1) \"Where Police Don't Mirror Communities and Why It Matters\" by Mike Maciag\n",
    "    http://www.governing.com/topics/public-justice-safety/gov-police-department-diversity.html\n",
    "    This article discusses how police across the nation don't mirror the demographics of those they serve, along with the impacts of police diversity (or lack of), and how to potentially improve diversity.\n",
    "- 2) An Empirical Analysis of Racial Differences in Police Use of Force by Roland G. Fryer, Jr \n",
    "    http://www.nber.org/papers/w22399\n",
    "    This paper examines police use of force and how race plays into this, "
   ]
  },
  {
   "cell_type": "markdown",
   "metadata": {},
   "source": [
    "### Proposed Methods\n",
    "\n",
    "What methods will you use to analyze your data?\n",
    "\n",
    "- How 'clean' is the data? To the extent that it requires cleaning, how will you do so?\n",
    "- How will you analyze the data? Be as specific as you can. Briefly mention any pre-processing steps that are required for your methods (for example, checking data distributions and performing any transformations that may be required). Include a brief outline of how you will apply your chosen method(s). \n",
    "- What do you plan to report? Briefly mention any key visualizations you plan to create, and/or the kind of result you will be able to report that addresses your question (this could be, for example, the outcome of some statistical test(s), prediction error on a model, a model fit parameter, etc.).\n",
    "- Include a list of packages you expect to use for you project. If you plan to use packages we have not used in class, add a very brief description about them (a few words is sufficient). "
   ]
  },
  {
   "cell_type": "markdown",
   "metadata": {},
   "source": [
    "*Fill in your proposed methods information here:*\n",
    "\n",
    "*Data Cleaning (2-3 sentences)*\n",
    "From the first dataset on the campus police, columns such as education level and state can be dropped; colleges with small police forces should also be removed. There are some null data points (some colleges did not report on all topics) and non-relevant college characteristics (such as ZIP code, standardized test scores, financial aid standings, etc.) that need to be removed from the second dataset on college characteristics. Overall, for college student demographics dataset, we must remove the colleges for which we don't have entries in the police dataset since the college dataset size is larger.\n",
    "\n",
    "*Data Analysis (1-2 paragraphs)*\n",
    "For the last dataset, the data is separated across multiple files so the datasets must be merged. In analyizing the datasets, we will first determine if racial demograhpics are similarly distributed across campus police and the student body that they are policing. In order to do so, we will be conducting a Chi-square test of homogeneity on each university's campus police/student body populations. The calculated chi-square statistic is a quantitative measure of how different the two populations are; the lower the chi-square statistic, the more similar the two populations are. \n",
    "\n",
    "Now that we have calculated this chi-squared statistic, we can use this as an indicator of how representative the police department demographics are of the university, and thus, can be used as the x-axis for graphic other characteristics about the police department. Since we want to determine if lack of homogeniety between the police and student demographics lead to a positive correlation with more money spent on police, lethal weapons, and arrests, among other factors, we want to develop a linear regression to observe the correlation. \n",
    "\n",
    "\n",
    "*What to report (2-3 sentences)*\n",
    "We plan to report data comparing the demographics of police departments and the students. We want to be able to display this data visually so we will develop a seperate graph with the chi-square statistic as the x-axis and other policing factors as the y-axis with each university as a data point. These visualizations will be able to successfully help us answer the question of if differences in racial demographics of campus police and student bodies significantly affect the police's activities and operations?\n",
    "\n",
    "Packages we plan to use:\n",
    "- pandas\n",
    "- bokeh\n",
    "- matplotlib\n",
    "- seaborn\n",
    "- scipy\n",
    "- numpy"
   ]
  },
  {
   "cell_type": "markdown",
   "metadata": {},
   "source": [
    "### Discussion\n",
    "\n",
    "What are the pitfalls and potential confounds of your data and/or methods? For example, how might biases in your data sources or analyses influence your interpretations? What will you do if you methods don't work and/or your hypotheses are wrong?\n",
    "\n",
    "(2-3 paragraphs)"
   ]
  },
  {
   "cell_type": "markdown",
   "metadata": {},
   "source": [
    "Our data might have a couple of pitfalls due to police departments and universities self-reporting the data, so there is a lack oversight to ensure the data's authenticity. A university may be underreporting incidents or have poor enforcement that is represented in the data.\n",
    "Another potential issue is that campus police forces could either be all representative or all unrepresentative of their respective student bodies. If so, we will not be able to draw observations or make conclusions on whether or not representation has an effect on campus policing. \n",
    "Additionally, a confounding variable that could affect our results is differences in practices and protocol across departments, university systems, counties, and states. A large centralized system such as UCPD will likely differ in practices from a CSU's police department or a private institution's department, affecting what weapons they require or the budget they request."
   ]
  }
 ],
 "metadata": {
  "kernelspec": {
   "display_name": "Python 3",
   "language": "python",
   "name": "python3"
  },
  "language_info": {
   "codemirror_mode": {
    "name": "ipython",
    "version": 3
   },
   "file_extension": ".py",
   "mimetype": "text/x-python",
   "name": "python",
   "nbconvert_exporter": "python",
   "pygments_lexer": "ipython3",
   "version": "3.6.0"
  }
 },
 "nbformat": 4,
 "nbformat_minor": 2
}
